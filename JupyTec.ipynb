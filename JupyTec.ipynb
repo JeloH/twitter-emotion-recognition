{
 "cells": [
  {
   "cell_type": "code",
   "execution_count": 1,
   "metadata": {},
   "outputs": [
    {
     "ename": "ModuleNotFoundError",
     "evalue": "No module named 'emotion_predictor'",
     "output_type": "error",
     "traceback": [
      "\u001b[1;31m---------------------------------------------------------------------------\u001b[0m",
      "\u001b[1;31mModuleNotFoundError\u001b[0m                       Traceback (most recent call last)",
      "\u001b[1;32m<ipython-input-1-4add4b1f3e13>\u001b[0m in \u001b[0;36m<module>\u001b[1;34m\u001b[0m\n\u001b[0;32m      1\u001b[0m \u001b[1;32mimport\u001b[0m \u001b[0mpandas\u001b[0m \u001b[1;32mas\u001b[0m \u001b[0mpd\u001b[0m\u001b[1;33m\u001b[0m\u001b[1;33m\u001b[0m\u001b[0m\n\u001b[0;32m      2\u001b[0m \u001b[1;33m\u001b[0m\u001b[0m\n\u001b[1;32m----> 3\u001b[1;33m \u001b[1;32mfrom\u001b[0m \u001b[0memotion_predictor\u001b[0m \u001b[1;32mimport\u001b[0m \u001b[0mEmotionPredictor\u001b[0m\u001b[1;33m\u001b[0m\u001b[1;33m\u001b[0m\u001b[0m\n\u001b[0m\u001b[0;32m      4\u001b[0m \u001b[1;33m\u001b[0m\u001b[0m\n\u001b[0;32m      5\u001b[0m \u001b[1;31m# Pandas presentation options\u001b[0m\u001b[1;33m\u001b[0m\u001b[1;33m\u001b[0m\u001b[1;33m\u001b[0m\u001b[0m\n",
      "\u001b[1;31mModuleNotFoundError\u001b[0m: No module named 'emotion_predictor'"
     ]
    }
   ],
   "source": [
    "import pandas as pd\n",
    "\n",
    "from emotion_predictor import EmotionPredictor\n",
    "\n",
    "# Pandas presentation options\n",
    "pd.options.display.max_colwidth = 150   # show whole tweet's content\n",
    "pd.options.display.width = 200          # don't break columns\n",
    "# pd.options.display.max_columns = 7      # maximal number of columns\n",
    "\n",
    "\n",
    "# Predictor for Ekman's emotions in multiclass setting.\n",
    "model = EmotionPredictor(classification='ekman', setting='mc', use_unison_model=True)\n",
    "tweets = [\n",
    "    \"Watching the sopranos again from start to finish!\",\n",
    "    \"Finding out i have to go to the  dentist tomorrow\",\n",
    "    \"Sun in my eyes but I don't mind, what a beautiful day we've had in New York today!\",\n",
    "    \"Feels like someone's stabbed me in my hope\",\n",
    "    \"Do people have no Respect for themselves or you know others peoples homes\",\n",
    "    \"I want to go outside and chalk but I have no chalk\",\n",
    "    \"I hate coming to the doctors when I feel as if I might have a big problem\",\n",
    "    \"My mom wasn't mad\",\n",
    "    \"You don't indicate once I'm already in the road THEN rev and honk at me you stupid bitch #learnhowtodrive #bitch\",\n",
    "    \"Come home from work and this is on my doorstep. I guess he has a secret admirer\",\n",
    "    \"The 'egyption hot models' facebook page is pathetic... simply photos of obese horny women.\",\n",
    "    \"I HATE PAPERS AH #AH #HATE\",\n",
    "]\n",
    "\n",
    "predictions = model.predict_classes(tweets)\n",
    "print(predictions, '\\n')\n",
    "\n",
    "probabilities = model.predict_probabilities(tweets)\n",
    "print(probabilities, '\\n')\n",
    "\n",
    "embeddings = model.embed(tweets)\n",
    "print(embeddings, '\\n')\n"
   ]
  },
  {
   "cell_type": "code",
   "execution_count": null,
   "metadata": {},
   "outputs": [],
   "source": []
  }
 ],
 "metadata": {
  "kernelspec": {
   "display_name": "Python 3",
   "language": "python",
   "name": "python3"
  },
  "language_info": {
   "codemirror_mode": {
    "name": "ipython",
    "version": 3
   },
   "file_extension": ".py",
   "mimetype": "text/x-python",
   "name": "python",
   "nbconvert_exporter": "python",
   "pygments_lexer": "ipython3",
   "version": "3.8.0"
  }
 },
 "nbformat": 4,
 "nbformat_minor": 4
}
